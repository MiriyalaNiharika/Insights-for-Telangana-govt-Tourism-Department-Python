{
 "cells": [
  {
   "cell_type": "code",
   "execution_count": 2,
   "id": "3b7f69ed",
   "metadata": {},
   "outputs": [],
   "source": [
    "#Importing required libraries:\n",
    "import pandas as pd\n",
    "import numpy as np\n",
    "from matplotlib import pyplot as plt\n",
    "import glob\n",
    "import os"
   ]
  },
  {
   "cell_type": "code",
   "execution_count": 3,
   "id": "6961590b",
   "metadata": {},
   "outputs": [],
   "source": [
    "# setting the path for joining multiple files\n",
    "files = os.path.join(\"C:/Users/Niharika/Documents/Python Scripts/Telangana tourism Analysis/domestic_visitors\", \"domestic_visitors_*.csv\")"
   ]
  },
  {
   "cell_type": "code",
   "execution_count": 4,
   "id": "3cf66d7c",
   "metadata": {},
   "outputs": [],
   "source": [
    "# list of merged files returned\n",
    "files = glob.glob(files)"
   ]
  },
  {
   "cell_type": "code",
   "execution_count": 5,
   "id": "477b3484",
   "metadata": {},
   "outputs": [
    {
     "name": "stdout",
     "output_type": "stream",
     "text": [
      "             district        date      month  year visitors\n",
      "0            Adilabad  01-01-2016    January  2016   792136\n",
      "1            Adilabad  01-02-2016   February  2016   937820\n",
      "2            Adilabad  01-03-2016      March  2016   582946\n",
      "3            Adilabad  01-04-2016      April  2016   341948\n",
      "4            Adilabad  01-05-2016        May  2016   252887\n",
      "...               ...         ...        ...   ...      ...\n",
      "1507  Yadadri Bhongir  01-08-2019     August  2019   389010\n",
      "1508  Yadadri Bhongir  01-09-2019  September  2019   366862\n",
      "1509  Yadadri Bhongir  01-10-2019    October  2019   381860\n",
      "1510  Yadadri Bhongir  01-11-2019   November  2019   365990\n",
      "1511  Yadadri Bhongir  01-12-2019   December  2019   477635\n",
      "\n",
      "[1512 rows x 5 columns]\n"
     ]
    }
   ],
   "source": [
    "domestic_visitors = pd.concat(map(pd.read_csv, files), ignore_index=True)\n",
    "print(domestic_visitors)"
   ]
  },
  {
   "cell_type": "code",
   "execution_count": 6,
   "id": "945dd4da",
   "metadata": {},
   "outputs": [],
   "source": [
    "# setting the path for joining multiple files\n",
    "files_2 = os.path.join(\"C:/Users/Niharika/Documents/Python Scripts/Telangana tourism Analysis/foreign_visitors\", \"foreign_visitors_*.csv\")"
   ]
  },
  {
   "cell_type": "code",
   "execution_count": 7,
   "id": "349b521b",
   "metadata": {},
   "outputs": [],
   "source": [
    "files_2 = glob.glob(files_2)"
   ]
  },
  {
   "cell_type": "code",
   "execution_count": 8,
   "id": "b3e06303",
   "metadata": {},
   "outputs": [
    {
     "name": "stdout",
     "output_type": "stream",
     "text": [
      "             district        date      month  year visitors\n",
      "0            Adilabad  01-01-2016    January  2016        2\n",
      "1            Adilabad  01-02-2016   February  2016        0\n",
      "2            Adilabad  01-03-2016      March  2016        2\n",
      "3            Adilabad  01-04-2016      April  2016        0\n",
      "4            Adilabad  01-05-2016        May  2016        0\n",
      "...               ...         ...        ...   ...      ...\n",
      "1507  Yadadri Bhongir  01-08-2019     August  2019        0\n",
      "1508  Yadadri Bhongir  01-09-2019  September  2019        0\n",
      "1509  Yadadri Bhongir  01-10-2019    October  2019        0\n",
      "1510  Yadadri Bhongir  01-11-2019   November  2019        0\n",
      "1511  Yadadri Bhongir  01-12-2019   December  2019        0\n",
      "\n",
      "[1512 rows x 5 columns]\n"
     ]
    }
   ],
   "source": [
    "# joining files with concat and read_csv\n",
    "foreign_visitors = pd.concat(map(pd.read_csv, files_2), ignore_index=True)\n",
    "print(foreign_visitors)"
   ]
  },
  {
   "cell_type": "code",
   "execution_count": 9,
   "id": "9dcca98b",
   "metadata": {},
   "outputs": [
    {
     "name": "stdout",
     "output_type": "stream",
     "text": [
      "<class 'pandas.core.frame.DataFrame'>\n",
      "RangeIndex: 1512 entries, 0 to 1511\n",
      "Data columns (total 5 columns):\n",
      " #   Column    Non-Null Count  Dtype \n",
      "---  ------    --------------  ----- \n",
      " 0   district  1512 non-null   object\n",
      " 1   date      1512 non-null   object\n",
      " 2   month     1512 non-null   object\n",
      " 3   year      1512 non-null   int64 \n",
      " 4   visitors  1482 non-null   object\n",
      "dtypes: int64(1), object(4)\n",
      "memory usage: 59.2+ KB\n"
     ]
    }
   ],
   "source": [
    "domestic_visitors.info()"
   ]
  },
  {
   "cell_type": "code",
   "execution_count": 10,
   "id": "deb18ce5",
   "metadata": {},
   "outputs": [
    {
     "data": {
      "text/plain": [
       "(1512, 5)"
      ]
     },
     "execution_count": 10,
     "metadata": {},
     "output_type": "execute_result"
    }
   ],
   "source": [
    "domestic_visitors.shape"
   ]
  },
  {
   "cell_type": "code",
   "execution_count": 14,
   "id": "06cdebfe",
   "metadata": {},
   "outputs": [
    {
     "data": {
      "text/plain": [
       "district    0\n",
       "date        0\n",
       "month       0\n",
       "year        0\n",
       "visitors    0\n",
       "dtype: int64"
      ]
     },
     "execution_count": 14,
     "metadata": {},
     "output_type": "execute_result"
    }
   ],
   "source": [
    "#Checking for missing values\n",
    "domestic_visitors.isnull().sum()"
   ]
  },
  {
   "cell_type": "code",
   "execution_count": 15,
   "id": "1edf26cc",
   "metadata": {},
   "outputs": [],
   "source": [
    "domestic_visitors.replace([\" \",np.nan], 0, inplace=True)"
   ]
  },
  {
   "cell_type": "code",
   "execution_count": 16,
   "id": "6fec5bdc",
   "metadata": {},
   "outputs": [
    {
     "data": {
      "text/plain": [
       "district    object\n",
       "date        object\n",
       "month       object\n",
       "year         int64\n",
       "visitors    object\n",
       "dtype: object"
      ]
     },
     "execution_count": 16,
     "metadata": {},
     "output_type": "execute_result"
    }
   ],
   "source": [
    "domestic_visitors.dtypes"
   ]
  },
  {
   "cell_type": "code",
   "execution_count": 17,
   "id": "3500b1c7",
   "metadata": {},
   "outputs": [],
   "source": [
    "#Converting visitors datatype to integer from object:\n",
    "domestic_visitors['visitors']=domestic_visitors.visitors.astype(\"int64\")"
   ]
  },
  {
   "cell_type": "code",
   "execution_count": 19,
   "id": "4d2c7f17",
   "metadata": {},
   "outputs": [
    {
     "data": {
      "text/plain": [
       "district    object\n",
       "date        object\n",
       "month       object\n",
       "year         int64\n",
       "visitors     int64\n",
       "dtype: object"
      ]
     },
     "execution_count": 19,
     "metadata": {},
     "output_type": "execute_result"
    }
   ],
   "source": [
    "domestic_visitors.dtypes"
   ]
  },
  {
   "cell_type": "code",
   "execution_count": 20,
   "id": "ee96d09e",
   "metadata": {},
   "outputs": [
    {
     "data": {
      "text/plain": [
       "district    0\n",
       "date        0\n",
       "month       0\n",
       "year        0\n",
       "visitors    0\n",
       "dtype: int64"
      ]
     },
     "execution_count": 20,
     "metadata": {},
     "output_type": "execute_result"
    }
   ],
   "source": [
    "domestic_visitors.isnull().sum()"
   ]
  },
  {
   "cell_type": "code",
   "execution_count": 23,
   "id": "2ee64b9d",
   "metadata": {},
   "outputs": [
    {
     "data": {
      "text/plain": [
       "district    0\n",
       "date        0\n",
       "month       0\n",
       "year        0\n",
       "visitors    0\n",
       "dtype: int64"
      ]
     },
     "execution_count": 23,
     "metadata": {},
     "output_type": "execute_result"
    }
   ],
   "source": [
    "#Checking for missing values\n",
    "foreign_visitors.isnull().sum()"
   ]
  },
  {
   "cell_type": "code",
   "execution_count": 24,
   "id": "8c5be258",
   "metadata": {},
   "outputs": [],
   "source": [
    "foreign_visitors[\"visitors\"] = foreign_visitors[\"visitors\"].replace(\" \",0)"
   ]
  },
  {
   "cell_type": "code",
   "execution_count": 25,
   "id": "13ac78ca",
   "metadata": {},
   "outputs": [
    {
     "name": "stdout",
     "output_type": "stream",
     "text": [
      "<class 'pandas.core.frame.DataFrame'>\n",
      "RangeIndex: 1512 entries, 0 to 1511\n",
      "Data columns (total 5 columns):\n",
      " #   Column    Non-Null Count  Dtype \n",
      "---  ------    --------------  ----- \n",
      " 0   district  1512 non-null   object\n",
      " 1   date      1512 non-null   object\n",
      " 2   month     1512 non-null   object\n",
      " 3   year      1512 non-null   int64 \n",
      " 4   visitors  1512 non-null   object\n",
      "dtypes: int64(1), object(4)\n",
      "memory usage: 59.2+ KB\n"
     ]
    }
   ],
   "source": [
    "foreign_visitors.info()"
   ]
  },
  {
   "cell_type": "code",
   "execution_count": 26,
   "id": "999a65bb",
   "metadata": {},
   "outputs": [],
   "source": [
    "#Converting visitors datatype to integer from object:\n",
    "foreign_visitors['visitors']=foreign_visitors.visitors.astype(\"int64\")"
   ]
  },
  {
   "cell_type": "code",
   "execution_count": 27,
   "id": "c7e74ba9",
   "metadata": {},
   "outputs": [
    {
     "data": {
      "text/plain": [
       "district\n",
       "Hyderabad                   83900960\n",
       "Rajanna Sircilla            41763276\n",
       "Warangal (Urban)            30726603\n",
       "Yadadri Bhongir             26893080\n",
       "Bhadradri Kothagudem        21600962\n",
       "Medak                       20542639\n",
       "Jayashankar Bhoopalpally    19632865\n",
       "Mahbubnagar                 17180118\n",
       "Nirmal                      13315796\n",
       "Jagtial                     11303514\n",
       "Name: visitors, dtype: int64"
      ]
     },
     "execution_count": 27,
     "metadata": {},
     "output_type": "execute_result"
    }
   ],
   "source": [
    "#1) List of top 10 districs with highest number of domestic visitors:\n",
    "Top_10_districts=domestic_visitors.groupby('district')['visitors'].sum().sort_values(ascending=True).nlargest(10)\n",
    "Top_10_districts"
   ]
  },
  {
   "cell_type": "code",
   "execution_count": null,
   "id": "b1b9b707",
   "metadata": {},
   "outputs": [],
   "source": [
    "#2) List of Top 3 districts based on CAGR(Compounded annual growth rate) of visitors between 2016-2019"
   ]
  },
  {
   "cell_type": "code",
   "execution_count": 28,
   "id": "b1f76dd4",
   "metadata": {},
   "outputs": [
    {
     "data": {
      "text/plain": [
       "array(['Adilabad', 'Bhadradri Kothagudem ', 'Hyderabad', 'Jagtial ',\n",
       "       'Jangaon ', 'Jayashankar Bhoopalpally', 'Jogulamba Gadwal ',\n",
       "       'Kamareddy ', 'Karimnagar ', 'Khammam', 'Komaram Bheem Asifabad',\n",
       "       'Mahabubabad ', 'Mahbubnagar', 'Mancherial', 'Medak ', 'Medchal ',\n",
       "       'Nagarkurnool ', 'Nalgonda', 'Nirmal', 'Nizamabad', 'Peddapalli',\n",
       "       'Rajanna Sircilla ', 'Ranga Reddy', 'Sangareddy ', 'Siddipet',\n",
       "       'Suryapet', 'Vikarabad', 'Wanaparthy ', 'Warangal (Rural)',\n",
       "       'Warangal (Urban)', 'Yadadri Bhongir', 'Mulugu', 'Narayanapet'],\n",
       "      dtype=object)"
      ]
     },
     "execution_count": 28,
     "metadata": {},
     "output_type": "execute_result"
    }
   ],
   "source": [
    "districts=domestic_visitors[\"district\"].unique()\n",
    "districts"
   ]
  },
  {
   "cell_type": "code",
   "execution_count": 29,
   "id": "8789e0c2",
   "metadata": {},
   "outputs": [],
   "source": [
    "domestic_dict = pd.DataFrame({\"district\":districts})"
   ]
  },
  {
   "cell_type": "code",
   "execution_count": 30,
   "id": "d40d5032",
   "metadata": {},
   "outputs": [],
   "source": [
    "#Domestic visitors in year 2016\n",
    "domo_2016=[]\n",
    "for i in districts:\n",
    "    domestic_2016 = domestic_visitors[domestic_visitors[\"year\"]==2016]\n",
    "    domo = domestic_2016[domestic_2016[\"district\"]==i].visitors.sum()\n",
    "    domo_2016.append(domo)\n",
    "domestic_dict[\"2016\"]=domo_2016"
   ]
  },
  {
   "cell_type": "code",
   "execution_count": 31,
   "id": "90fa3340",
   "metadata": {},
   "outputs": [],
   "source": [
    "#Domestic visitors in year 2019\n",
    "domo_2019=[]\n",
    "for i in districts:\n",
    "    domestic_2019 = domestic_visitors[domestic_visitors[\"year\"]==2019]\n",
    "    domo = domestic_2019[domestic_2019[\"district\"]==i].visitors.sum()\n",
    "    domo_2019.append(domo)\n",
    "domestic_dict[\"2019\"]=domo_2019"
   ]
  },
  {
   "cell_type": "code",
   "execution_count": 32,
   "id": "a9fecc3c",
   "metadata": {},
   "outputs": [
    {
     "data": {
      "text/html": [
       "<div>\n",
       "<style scoped>\n",
       "    .dataframe tbody tr th:only-of-type {\n",
       "        vertical-align: middle;\n",
       "    }\n",
       "\n",
       "    .dataframe tbody tr th {\n",
       "        vertical-align: top;\n",
       "    }\n",
       "\n",
       "    .dataframe thead th {\n",
       "        text-align: right;\n",
       "    }\n",
       "</style>\n",
       "<table border=\"1\" class=\"dataframe\">\n",
       "  <thead>\n",
       "    <tr style=\"text-align: right;\">\n",
       "      <th></th>\n",
       "      <th>district</th>\n",
       "      <th>2016</th>\n",
       "      <th>2019</th>\n",
       "    </tr>\n",
       "  </thead>\n",
       "  <tbody>\n",
       "    <tr>\n",
       "      <th>0</th>\n",
       "      <td>Adilabad</td>\n",
       "      <td>5075557</td>\n",
       "      <td>775895</td>\n",
       "    </tr>\n",
       "    <tr>\n",
       "      <th>1</th>\n",
       "      <td>Bhadradri Kothagudem</td>\n",
       "      <td>889030</td>\n",
       "      <td>12817737</td>\n",
       "    </tr>\n",
       "    <tr>\n",
       "      <th>2</th>\n",
       "      <td>Hyderabad</td>\n",
       "      <td>23394705</td>\n",
       "      <td>13802362</td>\n",
       "    </tr>\n",
       "    <tr>\n",
       "      <th>3</th>\n",
       "      <td>Jagtial</td>\n",
       "      <td>623077</td>\n",
       "      <td>3086115</td>\n",
       "    </tr>\n",
       "    <tr>\n",
       "      <th>4</th>\n",
       "      <td>Jangaon</td>\n",
       "      <td>40660</td>\n",
       "      <td>328890</td>\n",
       "    </tr>\n",
       "  </tbody>\n",
       "</table>\n",
       "</div>"
      ],
      "text/plain": [
       "                district      2016      2019\n",
       "0               Adilabad   5075557    775895\n",
       "1  Bhadradri Kothagudem     889030  12817737\n",
       "2              Hyderabad  23394705  13802362\n",
       "3               Jagtial     623077   3086115\n",
       "4               Jangaon      40660    328890"
      ]
     },
     "execution_count": 32,
     "metadata": {},
     "output_type": "execute_result"
    }
   ],
   "source": [
    "domestic_dict.head()"
   ]
  },
  {
   "cell_type": "code",
   "execution_count": 33,
   "id": "6be9dd88",
   "metadata": {},
   "outputs": [
    {
     "name": "stderr",
     "output_type": "stream",
     "text": [
      "<ipython-input-33-2c7785735c68>:6: RuntimeWarning: divide by zero encountered in scalar divide\n",
      "  cagrr = (((fv/iv)**(1/3))-1)\n",
      "<ipython-input-33-2c7785735c68>:6: RuntimeWarning: invalid value encountered in scalar divide\n",
      "  cagrr = (((fv/iv)**(1/3))-1)\n"
     ]
    }
   ],
   "source": [
    "#Calculating CAGR:Divide the Ending Value by the Beginning Value (i.e. Initial Value) Raise the Resulting Figure to the Inverse Number of Compounding Periods (1 / t) Subtract One to Convert the Implied CAGR into Percent Form\n",
    "cagr=[]\n",
    "for i in range(len(districts)):\n",
    "    fv = domestic_dict.loc[i,\"2019\"]  #final value\n",
    "    iv = domestic_dict.loc[i,\"2016\"]  #Initial value\n",
    "    cagrr = (((fv/iv)**(1/3))-1)\n",
    "    cagr.append(cagrr)"
   ]
  },
  {
   "cell_type": "code",
   "execution_count": 34,
   "id": "4583dcc3",
   "metadata": {},
   "outputs": [],
   "source": [
    "#Adding CAGR column to the dataframe: \n",
    "domestic_dict[\"CAGR\"]=cagr"
   ]
  },
  {
   "cell_type": "code",
   "execution_count": 35,
   "id": "3828801e",
   "metadata": {},
   "outputs": [],
   "source": [
    "domestic_dict = domestic_dict.replace([np.inf,np.nan],0)"
   ]
  },
  {
   "cell_type": "code",
   "execution_count": 36,
   "id": "e9f046f4",
   "metadata": {},
   "outputs": [
    {
     "data": {
      "text/html": [
       "<div>\n",
       "<style scoped>\n",
       "    .dataframe tbody tr th:only-of-type {\n",
       "        vertical-align: middle;\n",
       "    }\n",
       "\n",
       "    .dataframe tbody tr th {\n",
       "        vertical-align: top;\n",
       "    }\n",
       "\n",
       "    .dataframe thead th {\n",
       "        text-align: right;\n",
       "    }\n",
       "</style>\n",
       "<table border=\"1\" class=\"dataframe\">\n",
       "  <thead>\n",
       "    <tr style=\"text-align: right;\">\n",
       "      <th></th>\n",
       "      <th>district</th>\n",
       "      <th>2016</th>\n",
       "      <th>2019</th>\n",
       "      <th>CAGR</th>\n",
       "    </tr>\n",
       "  </thead>\n",
       "  <tbody>\n",
       "    <tr>\n",
       "      <th>0</th>\n",
       "      <td>Adilabad</td>\n",
       "      <td>5075557</td>\n",
       "      <td>775895</td>\n",
       "      <td>-0.465305</td>\n",
       "    </tr>\n",
       "    <tr>\n",
       "      <th>1</th>\n",
       "      <td>Bhadradri Kothagudem</td>\n",
       "      <td>889030</td>\n",
       "      <td>12817737</td>\n",
       "      <td>1.433875</td>\n",
       "    </tr>\n",
       "    <tr>\n",
       "      <th>2</th>\n",
       "      <td>Hyderabad</td>\n",
       "      <td>23394705</td>\n",
       "      <td>13802362</td>\n",
       "      <td>-0.161290</td>\n",
       "    </tr>\n",
       "    <tr>\n",
       "      <th>3</th>\n",
       "      <td>Jagtial</td>\n",
       "      <td>623077</td>\n",
       "      <td>3086115</td>\n",
       "      <td>0.704604</td>\n",
       "    </tr>\n",
       "    <tr>\n",
       "      <th>4</th>\n",
       "      <td>Jangaon</td>\n",
       "      <td>40660</td>\n",
       "      <td>328890</td>\n",
       "      <td>1.007372</td>\n",
       "    </tr>\n",
       "  </tbody>\n",
       "</table>\n",
       "</div>"
      ],
      "text/plain": [
       "                district      2016      2019      CAGR\n",
       "0               Adilabad   5075557    775895 -0.465305\n",
       "1  Bhadradri Kothagudem     889030  12817737  1.433875\n",
       "2              Hyderabad  23394705  13802362 -0.161290\n",
       "3               Jagtial     623077   3086115  0.704604\n",
       "4               Jangaon      40660    328890  1.007372"
      ]
     },
     "execution_count": 36,
     "metadata": {},
     "output_type": "execute_result"
    }
   ],
   "source": [
    "domestic_dict.head()"
   ]
  },
  {
   "cell_type": "code",
   "execution_count": 37,
   "id": "3bacaa47",
   "metadata": {},
   "outputs": [],
   "source": [
    "dom_max = domestic_dict.sort_values(by=\"CAGR\", ascending=False).head(3)\n",
    "dom_max = dom_max.reset_index()\n",
    "dom_max.drop(\"index\", axis=1, inplace=True)"
   ]
  },
  {
   "cell_type": "code",
   "execution_count": 40,
   "id": "f37052fc",
   "metadata": {},
   "outputs": [
    {
     "data": {
      "text/html": [
       "<div>\n",
       "<style scoped>\n",
       "    .dataframe tbody tr th:only-of-type {\n",
       "        vertical-align: middle;\n",
       "    }\n",
       "\n",
       "    .dataframe tbody tr th {\n",
       "        vertical-align: top;\n",
       "    }\n",
       "\n",
       "    .dataframe thead th {\n",
       "        text-align: right;\n",
       "    }\n",
       "</style>\n",
       "<table border=\"1\" class=\"dataframe\">\n",
       "  <thead>\n",
       "    <tr style=\"text-align: right;\">\n",
       "      <th></th>\n",
       "      <th>district</th>\n",
       "      <th>2016</th>\n",
       "      <th>2019</th>\n",
       "      <th>CAGR</th>\n",
       "    </tr>\n",
       "  </thead>\n",
       "  <tbody>\n",
       "    <tr>\n",
       "      <th>0</th>\n",
       "      <td>Mancherial</td>\n",
       "      <td>7802</td>\n",
       "      <td>269810</td>\n",
       "      <td>2.257997</td>\n",
       "    </tr>\n",
       "    <tr>\n",
       "      <th>1</th>\n",
       "      <td>Warangal (Rural)</td>\n",
       "      <td>19400</td>\n",
       "      <td>353500</td>\n",
       "      <td>1.631455</td>\n",
       "    </tr>\n",
       "    <tr>\n",
       "      <th>2</th>\n",
       "      <td>Bhadradri Kothagudem</td>\n",
       "      <td>889030</td>\n",
       "      <td>12817737</td>\n",
       "      <td>1.433875</td>\n",
       "    </tr>\n",
       "  </tbody>\n",
       "</table>\n",
       "</div>"
      ],
      "text/plain": [
       "                district    2016      2019      CAGR\n",
       "0             Mancherial    7802    269810  2.257997\n",
       "1       Warangal (Rural)   19400    353500  1.631455\n",
       "2  Bhadradri Kothagudem   889030  12817737  1.433875"
      ]
     },
     "execution_count": 40,
     "metadata": {},
     "output_type": "execute_result"
    }
   ],
   "source": [
    "#Top 3 districts based on CAGR(Compounded annual growth rate) of visitors between 2016-2019\n",
    "dom_max"
   ]
  },
  {
   "cell_type": "code",
   "execution_count": 41,
   "id": "29d5da3c",
   "metadata": {},
   "outputs": [
    {
     "data": {
      "text/plain": [
       "<AxesSubplot:xlabel='district'>"
      ]
     },
     "execution_count": 41,
     "metadata": {},
     "output_type": "execute_result"
    },
    {
     "data": {
      "image/png": "[encoded data removed]",
      "text/plain": [
       "<Figure size 432x288 with 1 Axes>"
      ]
     },
     "metadata": {
      "needs_background": "light"
     },
     "output_type": "display_data"
    }
   ],
   "source": [
    "dom_max.head().plot(\"district\", \"CAGR\", kind=\"bar\")"
   ]
  },
  {
   "cell_type": "code",
   "execution_count": 43,
   "id": "b100e486",
   "metadata": {},
   "outputs": [],
   "source": [
    "#3) Bottom 3 CAGR\n",
    "dom_min = domestic_dict.sort_values(by=\"CAGR\", ascending=True).head(3)\n",
    "dom_min = dom_min.reset_index()\n",
    "dom_min.drop(\"index\", axis=1, inplace=True)"
   ]
  },
  {
   "cell_type": "code",
   "execution_count": 44,
   "id": "8c19575f",
   "metadata": {},
   "outputs": [
    {
     "data": {
      "text/plain": [
       "<AxesSubplot:xlabel='district'>"
      ]
     },
     "execution_count": 44,
     "metadata": {},
     "output_type": "execute_result"
    },
    {
     "data": {
      "image/png": "[encoded data removed]",
      "text/plain": [
       "<Figure size 432x288 with 1 Axes>"
      ]
     },
     "metadata": {
      "needs_background": "light"
     },
     "output_type": "display_data"
    }
   ],
   "source": [
    "dom_min.head().plot(\"district\", \"CAGR\", kind=\"bar\")"
   ]
  },
  {
   "cell_type": "code",
   "execution_count": null,
   "id": "1a880b5b",
   "metadata": {},
   "outputs": [],
   "source": [
    "##Foreign visitors CAGR"
   ]
  },
  {
   "cell_type": "code",
   "execution_count": 45,
   "id": "fb0d73aa",
   "metadata": {},
   "outputs": [
    {
     "data": {
      "text/plain": [
       "year  district             \n",
       "2016  Adilabad                     10\n",
       "      Bhadradri Kothagudem          0\n",
       "      Hyderabad                163631\n",
       "      Jagtial                       0\n",
       "      Jangaon                       2\n",
       "                                ...  \n",
       "2019  Vikarabad                     0\n",
       "      Wanaparthy                    0\n",
       "      Warangal (Rural)              0\n",
       "      Warangal (Urban)           2450\n",
       "      Yadadri Bhongir               0\n",
       "Name: visitors, Length: 126, dtype: int64"
      ]
     },
     "execution_count": 45,
     "metadata": {},
     "output_type": "execute_result"
    }
   ],
   "source": [
    "#Top 3 CAGR\n",
    "foreign_visitors.groupby([\"year\",\"district\"])[\"visitors\"].sum()"
   ]
  },
  {
   "cell_type": "code",
   "execution_count": 46,
   "id": "d17adde5",
   "metadata": {},
   "outputs": [],
   "source": [
    "frgn_dict = pd.DataFrame({\"district\":districts})"
   ]
  },
  {
   "cell_type": "code",
   "execution_count": 47,
   "id": "92624d23",
   "metadata": {},
   "outputs": [],
   "source": [
    "domo_2016=[]\n",
    "for i in districts:\n",
    "    domestic_2016 = foreign_visitors[foreign_visitors[\"year\"]==2016]\n",
    "    domo = domestic_2016[domestic_2016[\"district\"]==i].visitors.sum()\n",
    "    domo_2016.append(domo)\n",
    "frgn_dict[\"2016\"]=domo_2016"
   ]
  },
  {
   "cell_type": "code",
   "execution_count": 48,
   "id": "12872ecd",
   "metadata": {},
   "outputs": [],
   "source": [
    "domo_2019=[]\n",
    "for i in districts:\n",
    "    domestic_2019 = foreign_visitors[foreign_visitors[\"year\"]==2019]\n",
    "    domo = domestic_2019[domestic_2019[\"district\"]==i].visitors.sum()\n",
    "    domo_2019.append(domo)\n",
    "frgn_dict[\"2019\"]=domo_2019"
   ]
  },
  {
   "cell_type": "code",
   "execution_count": 49,
   "id": "b4d4d10e",
   "metadata": {},
   "outputs": [
    {
     "data": {
      "text/html": [
       "<div>\n",
       "<style scoped>\n",
       "    .dataframe tbody tr th:only-of-type {\n",
       "        vertical-align: middle;\n",
       "    }\n",
       "\n",
       "    .dataframe tbody tr th {\n",
       "        vertical-align: top;\n",
       "    }\n",
       "\n",
       "    .dataframe thead th {\n",
       "        text-align: right;\n",
       "    }\n",
       "</style>\n",
       "<table border=\"1\" class=\"dataframe\">\n",
       "  <thead>\n",
       "    <tr style=\"text-align: right;\">\n",
       "      <th></th>\n",
       "      <th>district</th>\n",
       "      <th>2016</th>\n",
       "      <th>2019</th>\n",
       "    </tr>\n",
       "  </thead>\n",
       "  <tbody>\n",
       "    <tr>\n",
       "      <th>0</th>\n",
       "      <td>Adilabad</td>\n",
       "      <td>10</td>\n",
       "      <td>6</td>\n",
       "    </tr>\n",
       "    <tr>\n",
       "      <th>1</th>\n",
       "      <td>Bhadradri Kothagudem</td>\n",
       "      <td>0</td>\n",
       "      <td>0</td>\n",
       "    </tr>\n",
       "    <tr>\n",
       "      <th>2</th>\n",
       "      <td>Hyderabad</td>\n",
       "      <td>163631</td>\n",
       "      <td>319300</td>\n",
       "    </tr>\n",
       "    <tr>\n",
       "      <th>3</th>\n",
       "      <td>Jagtial</td>\n",
       "      <td>0</td>\n",
       "      <td>0</td>\n",
       "    </tr>\n",
       "    <tr>\n",
       "      <th>4</th>\n",
       "      <td>Jangaon</td>\n",
       "      <td>2</td>\n",
       "      <td>0</td>\n",
       "    </tr>\n",
       "  </tbody>\n",
       "</table>\n",
       "</div>"
      ],
      "text/plain": [
       "                district    2016    2019\n",
       "0               Adilabad      10       6\n",
       "1  Bhadradri Kothagudem        0       0\n",
       "2              Hyderabad  163631  319300\n",
       "3               Jagtial        0       0\n",
       "4               Jangaon        2       0"
      ]
     },
     "execution_count": 49,
     "metadata": {},
     "output_type": "execute_result"
    }
   ],
   "source": [
    "frgn_dict.head()"
   ]
  },
  {
   "cell_type": "code",
   "execution_count": 50,
   "id": "cc6adb21",
   "metadata": {},
   "outputs": [
    {
     "name": "stderr",
     "output_type": "stream",
     "text": [
      "<ipython-input-50-a66b318b46b9>:5: RuntimeWarning: invalid value encountered in scalar divide\n",
      "  cagrr = (((fv/iv)**(1/3))-1)\n",
      "<ipython-input-50-a66b318b46b9>:5: RuntimeWarning: divide by zero encountered in scalar divide\n",
      "  cagrr = (((fv/iv)**(1/3))-1)\n"
     ]
    }
   ],
   "source": [
    "cagr=[]\n",
    "for i in range(len(districts)):\n",
    "    fv = frgn_dict.loc[i,\"2019\"]\n",
    "    iv = frgn_dict.loc[i,\"2016\"]\n",
    "    cagrr = (((fv/iv)**(1/3))-1)\n",
    "    cagr.append(cagrr)"
   ]
  },
  {
   "cell_type": "code",
   "execution_count": 51,
   "id": "ebe5f8e5",
   "metadata": {},
   "outputs": [],
   "source": [
    "frgn_dict[\"CAGR\"]=cagr"
   ]
  },
  {
   "cell_type": "code",
   "execution_count": 52,
   "id": "d060ad7a",
   "metadata": {},
   "outputs": [
    {
     "data": {
      "text/html": [
       "<div>\n",
       "<style scoped>\n",
       "    .dataframe tbody tr th:only-of-type {\n",
       "        vertical-align: middle;\n",
       "    }\n",
       "\n",
       "    .dataframe tbody tr th {\n",
       "        vertical-align: top;\n",
       "    }\n",
       "\n",
       "    .dataframe thead th {\n",
       "        text-align: right;\n",
       "    }\n",
       "</style>\n",
       "<table border=\"1\" class=\"dataframe\">\n",
       "  <thead>\n",
       "    <tr style=\"text-align: right;\">\n",
       "      <th></th>\n",
       "      <th>district</th>\n",
       "      <th>2016</th>\n",
       "      <th>2019</th>\n",
       "      <th>CAGR</th>\n",
       "    </tr>\n",
       "  </thead>\n",
       "  <tbody>\n",
       "    <tr>\n",
       "      <th>0</th>\n",
       "      <td>Adilabad</td>\n",
       "      <td>10</td>\n",
       "      <td>6</td>\n",
       "      <td>-0.156567</td>\n",
       "    </tr>\n",
       "    <tr>\n",
       "      <th>1</th>\n",
       "      <td>Bhadradri Kothagudem</td>\n",
       "      <td>0</td>\n",
       "      <td>0</td>\n",
       "      <td>NaN</td>\n",
       "    </tr>\n",
       "    <tr>\n",
       "      <th>2</th>\n",
       "      <td>Hyderabad</td>\n",
       "      <td>163631</td>\n",
       "      <td>319300</td>\n",
       "      <td>0.249619</td>\n",
       "    </tr>\n",
       "    <tr>\n",
       "      <th>3</th>\n",
       "      <td>Jagtial</td>\n",
       "      <td>0</td>\n",
       "      <td>0</td>\n",
       "      <td>NaN</td>\n",
       "    </tr>\n",
       "    <tr>\n",
       "      <th>4</th>\n",
       "      <td>Jangaon</td>\n",
       "      <td>2</td>\n",
       "      <td>0</td>\n",
       "      <td>-1.000000</td>\n",
       "    </tr>\n",
       "  </tbody>\n",
       "</table>\n",
       "</div>"
      ],
      "text/plain": [
       "                district    2016    2019      CAGR\n",
       "0               Adilabad      10       6 -0.156567\n",
       "1  Bhadradri Kothagudem        0       0       NaN\n",
       "2              Hyderabad  163631  319300  0.249619\n",
       "3               Jagtial        0       0       NaN\n",
       "4               Jangaon        2       0 -1.000000"
      ]
     },
     "execution_count": 52,
     "metadata": {},
     "output_type": "execute_result"
    }
   ],
   "source": [
    "frgn_dict.head()"
   ]
  },
  {
   "cell_type": "code",
   "execution_count": 53,
   "id": "24db507a",
   "metadata": {},
   "outputs": [],
   "source": [
    "frgn_dict = frgn_dict.replace([np.inf,np.nan],0)"
   ]
  },
  {
   "cell_type": "code",
   "execution_count": 54,
   "id": "c4645565",
   "metadata": {},
   "outputs": [
    {
     "data": {
      "text/html": [
       "<div>\n",
       "<style scoped>\n",
       "    .dataframe tbody tr th:only-of-type {\n",
       "        vertical-align: middle;\n",
       "    }\n",
       "\n",
       "    .dataframe tbody tr th {\n",
       "        vertical-align: top;\n",
       "    }\n",
       "\n",
       "    .dataframe thead th {\n",
       "        text-align: right;\n",
       "    }\n",
       "</style>\n",
       "<table border=\"1\" class=\"dataframe\">\n",
       "  <thead>\n",
       "    <tr style=\"text-align: right;\">\n",
       "      <th></th>\n",
       "      <th>district</th>\n",
       "      <th>2016</th>\n",
       "      <th>2019</th>\n",
       "      <th>CAGR</th>\n",
       "    </tr>\n",
       "  </thead>\n",
       "  <tbody>\n",
       "    <tr>\n",
       "      <th>0</th>\n",
       "      <td>Adilabad</td>\n",
       "      <td>10</td>\n",
       "      <td>6</td>\n",
       "      <td>-0.156567</td>\n",
       "    </tr>\n",
       "    <tr>\n",
       "      <th>1</th>\n",
       "      <td>Bhadradri Kothagudem</td>\n",
       "      <td>0</td>\n",
       "      <td>0</td>\n",
       "      <td>0.000000</td>\n",
       "    </tr>\n",
       "    <tr>\n",
       "      <th>2</th>\n",
       "      <td>Hyderabad</td>\n",
       "      <td>163631</td>\n",
       "      <td>319300</td>\n",
       "      <td>0.249619</td>\n",
       "    </tr>\n",
       "    <tr>\n",
       "      <th>3</th>\n",
       "      <td>Jagtial</td>\n",
       "      <td>0</td>\n",
       "      <td>0</td>\n",
       "      <td>0.000000</td>\n",
       "    </tr>\n",
       "    <tr>\n",
       "      <th>4</th>\n",
       "      <td>Jangaon</td>\n",
       "      <td>2</td>\n",
       "      <td>0</td>\n",
       "      <td>-1.000000</td>\n",
       "    </tr>\n",
       "  </tbody>\n",
       "</table>\n",
       "</div>"
      ],
      "text/plain": [
       "                district    2016    2019      CAGR\n",
       "0               Adilabad      10       6 -0.156567\n",
       "1  Bhadradri Kothagudem        0       0  0.000000\n",
       "2              Hyderabad  163631  319300  0.249619\n",
       "3               Jagtial        0       0  0.000000\n",
       "4               Jangaon        2       0 -1.000000"
      ]
     },
     "execution_count": 54,
     "metadata": {},
     "output_type": "execute_result"
    }
   ],
   "source": [
    "frgn_dict.head()"
   ]
  },
  {
   "cell_type": "code",
   "execution_count": 52,
   "id": "7f87adb9",
   "metadata": {},
   "outputs": [
    {
     "data": {
      "text/html": [
       "<div>\n",
       "<style scoped>\n",
       "    .dataframe tbody tr th:only-of-type {\n",
       "        vertical-align: middle;\n",
       "    }\n",
       "\n",
       "    .dataframe tbody tr th {\n",
       "        vertical-align: top;\n",
       "    }\n",
       "\n",
       "    .dataframe thead th {\n",
       "        text-align: right;\n",
       "    }\n",
       "</style>\n",
       "<table border=\"1\" class=\"dataframe\">\n",
       "  <thead>\n",
       "    <tr style=\"text-align: right;\">\n",
       "      <th></th>\n",
       "      <th>district</th>\n",
       "      <th>2016</th>\n",
       "      <th>2019</th>\n",
       "      <th>CAGR</th>\n",
       "    </tr>\n",
       "  </thead>\n",
       "  <tbody>\n",
       "    <tr>\n",
       "      <th>16</th>\n",
       "      <td>Nagarkurnool</td>\n",
       "      <td>29</td>\n",
       "      <td>199</td>\n",
       "      <td>0.900283</td>\n",
       "    </tr>\n",
       "    <tr>\n",
       "      <th>6</th>\n",
       "      <td>Jogulamba Gadwal</td>\n",
       "      <td>45</td>\n",
       "      <td>295</td>\n",
       "      <td>0.871557</td>\n",
       "    </tr>\n",
       "    <tr>\n",
       "      <th>2</th>\n",
       "      <td>Hyderabad</td>\n",
       "      <td>163631</td>\n",
       "      <td>319300</td>\n",
       "      <td>0.249619</td>\n",
       "    </tr>\n",
       "    <tr>\n",
       "      <th>29</th>\n",
       "      <td>Warangal (Urban)</td>\n",
       "      <td>1899</td>\n",
       "      <td>2450</td>\n",
       "      <td>0.088630</td>\n",
       "    </tr>\n",
       "    <tr>\n",
       "      <th>25</th>\n",
       "      <td>Suryapet</td>\n",
       "      <td>0</td>\n",
       "      <td>0</td>\n",
       "      <td>0.000000</td>\n",
       "    </tr>\n",
       "    <tr>\n",
       "      <th>20</th>\n",
       "      <td>Peddapalli</td>\n",
       "      <td>0</td>\n",
       "      <td>0</td>\n",
       "      <td>0.000000</td>\n",
       "    </tr>\n",
       "    <tr>\n",
       "      <th>21</th>\n",
       "      <td>Rajanna Sircilla</td>\n",
       "      <td>0</td>\n",
       "      <td>0</td>\n",
       "      <td>0.000000</td>\n",
       "    </tr>\n",
       "    <tr>\n",
       "      <th>22</th>\n",
       "      <td>Ranga Reddy</td>\n",
       "      <td>0</td>\n",
       "      <td>0</td>\n",
       "      <td>0.000000</td>\n",
       "    </tr>\n",
       "    <tr>\n",
       "      <th>23</th>\n",
       "      <td>Sangareddy</td>\n",
       "      <td>0</td>\n",
       "      <td>0</td>\n",
       "      <td>0.000000</td>\n",
       "    </tr>\n",
       "    <tr>\n",
       "      <th>24</th>\n",
       "      <td>Siddipet</td>\n",
       "      <td>0</td>\n",
       "      <td>0</td>\n",
       "      <td>0.000000</td>\n",
       "    </tr>\n",
       "    <tr>\n",
       "      <th>27</th>\n",
       "      <td>Wanaparthy</td>\n",
       "      <td>0</td>\n",
       "      <td>0</td>\n",
       "      <td>0.000000</td>\n",
       "    </tr>\n",
       "    <tr>\n",
       "      <th>26</th>\n",
       "      <td>Vikarabad</td>\n",
       "      <td>0</td>\n",
       "      <td>0</td>\n",
       "      <td>0.000000</td>\n",
       "    </tr>\n",
       "    <tr>\n",
       "      <th>18</th>\n",
       "      <td>Nirmal</td>\n",
       "      <td>0</td>\n",
       "      <td>0</td>\n",
       "      <td>0.000000</td>\n",
       "    </tr>\n",
       "    <tr>\n",
       "      <th>28</th>\n",
       "      <td>Warangal (Rural)</td>\n",
       "      <td>0</td>\n",
       "      <td>0</td>\n",
       "      <td>0.000000</td>\n",
       "    </tr>\n",
       "    <tr>\n",
       "      <th>30</th>\n",
       "      <td>Yadadri Bhongir</td>\n",
       "      <td>0</td>\n",
       "      <td>0</td>\n",
       "      <td>0.000000</td>\n",
       "    </tr>\n",
       "    <tr>\n",
       "      <th>31</th>\n",
       "      <td>Mulugu</td>\n",
       "      <td>0</td>\n",
       "      <td>575</td>\n",
       "      <td>0.000000</td>\n",
       "    </tr>\n",
       "    <tr>\n",
       "      <th>19</th>\n",
       "      <td>Nizamabad</td>\n",
       "      <td>0</td>\n",
       "      <td>1</td>\n",
       "      <td>0.000000</td>\n",
       "    </tr>\n",
       "    <tr>\n",
       "      <th>32</th>\n",
       "      <td>Narayanapet</td>\n",
       "      <td>0</td>\n",
       "      <td>0</td>\n",
       "      <td>0.000000</td>\n",
       "    </tr>\n",
       "    <tr>\n",
       "      <th>17</th>\n",
       "      <td>Nalgonda</td>\n",
       "      <td>0</td>\n",
       "      <td>0</td>\n",
       "      <td>0.000000</td>\n",
       "    </tr>\n",
       "    <tr>\n",
       "      <th>1</th>\n",
       "      <td>Bhadradri Kothagudem</td>\n",
       "      <td>0</td>\n",
       "      <td>0</td>\n",
       "      <td>0.000000</td>\n",
       "    </tr>\n",
       "    <tr>\n",
       "      <th>15</th>\n",
       "      <td>Medchal</td>\n",
       "      <td>0</td>\n",
       "      <td>0</td>\n",
       "      <td>0.000000</td>\n",
       "    </tr>\n",
       "    <tr>\n",
       "      <th>14</th>\n",
       "      <td>Medak</td>\n",
       "      <td>0</td>\n",
       "      <td>0</td>\n",
       "      <td>0.000000</td>\n",
       "    </tr>\n",
       "    <tr>\n",
       "      <th>13</th>\n",
       "      <td>Mancherial</td>\n",
       "      <td>0</td>\n",
       "      <td>10</td>\n",
       "      <td>0.000000</td>\n",
       "    </tr>\n",
       "    <tr>\n",
       "      <th>11</th>\n",
       "      <td>Mahabubabad</td>\n",
       "      <td>0</td>\n",
       "      <td>0</td>\n",
       "      <td>0.000000</td>\n",
       "    </tr>\n",
       "    <tr>\n",
       "      <th>10</th>\n",
       "      <td>Komaram Bheem Asifabad</td>\n",
       "      <td>0</td>\n",
       "      <td>0</td>\n",
       "      <td>0.000000</td>\n",
       "    </tr>\n",
       "    <tr>\n",
       "      <th>9</th>\n",
       "      <td>Khammam</td>\n",
       "      <td>0</td>\n",
       "      <td>0</td>\n",
       "      <td>0.000000</td>\n",
       "    </tr>\n",
       "    <tr>\n",
       "      <th>8</th>\n",
       "      <td>Karimnagar</td>\n",
       "      <td>0</td>\n",
       "      <td>0</td>\n",
       "      <td>0.000000</td>\n",
       "    </tr>\n",
       "    <tr>\n",
       "      <th>7</th>\n",
       "      <td>Kamareddy</td>\n",
       "      <td>0</td>\n",
       "      <td>0</td>\n",
       "      <td>0.000000</td>\n",
       "    </tr>\n",
       "    <tr>\n",
       "      <th>3</th>\n",
       "      <td>Jagtial</td>\n",
       "      <td>0</td>\n",
       "      <td>0</td>\n",
       "      <td>0.000000</td>\n",
       "    </tr>\n",
       "    <tr>\n",
       "      <th>0</th>\n",
       "      <td>Adilabad</td>\n",
       "      <td>10</td>\n",
       "      <td>6</td>\n",
       "      <td>-0.156567</td>\n",
       "    </tr>\n",
       "    <tr>\n",
       "      <th>5</th>\n",
       "      <td>Jayashankar Bhoopalpally</td>\n",
       "      <td>86</td>\n",
       "      <td>45</td>\n",
       "      <td>-0.194180</td>\n",
       "    </tr>\n",
       "    <tr>\n",
       "      <th>12</th>\n",
       "      <td>Mahbubnagar</td>\n",
       "      <td>868</td>\n",
       "      <td>440</td>\n",
       "      <td>-0.202659</td>\n",
       "    </tr>\n",
       "    <tr>\n",
       "      <th>4</th>\n",
       "      <td>Jangaon</td>\n",
       "      <td>2</td>\n",
       "      <td>0</td>\n",
       "      <td>-1.000000</td>\n",
       "    </tr>\n",
       "  </tbody>\n",
       "</table>\n",
       "</div>"
      ],
      "text/plain": [
       "                    district    2016    2019      CAGR\n",
       "16             Nagarkurnool       29     199  0.900283\n",
       "6          Jogulamba Gadwal       45     295  0.871557\n",
       "2                  Hyderabad  163631  319300  0.249619\n",
       "29          Warangal (Urban)    1899    2450  0.088630\n",
       "25                  Suryapet       0       0  0.000000\n",
       "20                Peddapalli       0       0  0.000000\n",
       "21         Rajanna Sircilla        0       0  0.000000\n",
       "22               Ranga Reddy       0       0  0.000000\n",
       "23               Sangareddy        0       0  0.000000\n",
       "24                  Siddipet       0       0  0.000000\n",
       "27               Wanaparthy        0       0  0.000000\n",
       "26                 Vikarabad       0       0  0.000000\n",
       "18                    Nirmal       0       0  0.000000\n",
       "28          Warangal (Rural)       0       0  0.000000\n",
       "30           Yadadri Bhongir       0       0  0.000000\n",
       "31                    Mulugu       0     575  0.000000\n",
       "19                 Nizamabad       0       1  0.000000\n",
       "32               Narayanapet       0       0  0.000000\n",
       "17                  Nalgonda       0       0  0.000000\n",
       "1      Bhadradri Kothagudem        0       0  0.000000\n",
       "15                  Medchal        0       0  0.000000\n",
       "14                    Medak        0       0  0.000000\n",
       "13                Mancherial       0      10  0.000000\n",
       "11              Mahabubabad        0       0  0.000000\n",
       "10    Komaram Bheem Asifabad       0       0  0.000000\n",
       "9                    Khammam       0       0  0.000000\n",
       "8                Karimnagar        0       0  0.000000\n",
       "7                 Kamareddy        0       0  0.000000\n",
       "3                   Jagtial        0       0  0.000000\n",
       "0                   Adilabad      10       6 -0.156567\n",
       "5   Jayashankar Bhoopalpally      86      45 -0.194180\n",
       "12               Mahbubnagar     868     440 -0.202659\n",
       "4                   Jangaon        2       0 -1.000000"
      ]
     },
     "execution_count": 52,
     "metadata": {},
     "output_type": "execute_result"
    }
   ],
   "source": [
    "frgn_dict.sort_values(by=\"CAGR\", ascending=False)"
   ]
  },
  {
   "cell_type": "code",
   "execution_count": 55,
   "id": "7259c273",
   "metadata": {},
   "outputs": [],
   "source": [
    "frgn_dict_max = frgn_dict.sort_values(by=\"CAGR\", ascending=False).head(3)\n",
    "frgn_dict_max = frgn_dict_max.reset_index()\n",
    "frgn_dict_max.drop(\"index\", axis=1, inplace=True)"
   ]
  },
  {
   "cell_type": "code",
   "execution_count": 56,
   "id": "d08e7660",
   "metadata": {},
   "outputs": [
    {
     "data": {
      "text/html": [
       "<div>\n",
       "<style scoped>\n",
       "    .dataframe tbody tr th:only-of-type {\n",
       "        vertical-align: middle;\n",
       "    }\n",
       "\n",
       "    .dataframe tbody tr th {\n",
       "        vertical-align: top;\n",
       "    }\n",
       "\n",
       "    .dataframe thead th {\n",
       "        text-align: right;\n",
       "    }\n",
       "</style>\n",
       "<table border=\"1\" class=\"dataframe\">\n",
       "  <thead>\n",
       "    <tr style=\"text-align: right;\">\n",
       "      <th></th>\n",
       "      <th>district</th>\n",
       "      <th>2016</th>\n",
       "      <th>2019</th>\n",
       "      <th>CAGR</th>\n",
       "    </tr>\n",
       "  </thead>\n",
       "  <tbody>\n",
       "    <tr>\n",
       "      <th>0</th>\n",
       "      <td>Nagarkurnool</td>\n",
       "      <td>29</td>\n",
       "      <td>199</td>\n",
       "      <td>0.900283</td>\n",
       "    </tr>\n",
       "    <tr>\n",
       "      <th>1</th>\n",
       "      <td>Jogulamba Gadwal</td>\n",
       "      <td>45</td>\n",
       "      <td>295</td>\n",
       "      <td>0.871557</td>\n",
       "    </tr>\n",
       "    <tr>\n",
       "      <th>2</th>\n",
       "      <td>Hyderabad</td>\n",
       "      <td>163631</td>\n",
       "      <td>319300</td>\n",
       "      <td>0.249619</td>\n",
       "    </tr>\n",
       "  </tbody>\n",
       "</table>\n",
       "</div>"
      ],
      "text/plain": [
       "            district    2016    2019      CAGR\n",
       "0      Nagarkurnool       29     199  0.900283\n",
       "1  Jogulamba Gadwal       45     295  0.871557\n",
       "2          Hyderabad  163631  319300  0.249619"
      ]
     },
     "execution_count": 56,
     "metadata": {},
     "output_type": "execute_result"
    }
   ],
   "source": [
    "#Top 3 CAGR in foreign visitors\n",
    "frgn_dict_max"
   ]
  },
  {
   "cell_type": "code",
   "execution_count": 57,
   "id": "58509c95",
   "metadata": {},
   "outputs": [
    {
     "data": {
      "text/plain": [
       "<AxesSubplot:xlabel='district'>"
      ]
     },
     "execution_count": 57,
     "metadata": {},
     "output_type": "execute_result"
    },
    {
     "data": {
      "image/png": "[encoded data removed]",
      "text/plain": [
       "<Figure size 432x288 with 1 Axes>"
      ]
     },
     "metadata": {
      "needs_background": "light"
     },
     "output_type": "display_data"
    }
   ],
   "source": [
    "frgn_dict_max.head().plot(\"district\", \"CAGR\", kind=\"bar\")"
   ]
  },
  {
   "cell_type": "code",
   "execution_count": 58,
   "id": "5f029bbf",
   "metadata": {},
   "outputs": [],
   "source": [
    "#Bottom 3 CAGR in foreign visitors\n",
    "frgn_dict_min = frgn_dict.sort_values(by=\"CAGR\", ascending=True).head(3)\n",
    "frgn_dict_min = frgn_dict_min.reset_index()\n",
    "frgn_dict_min.drop(\"index\", axis=1, inplace=True)"
   ]
  },
  {
   "cell_type": "code",
   "execution_count": 59,
   "id": "93251485",
   "metadata": {},
   "outputs": [
    {
     "data": {
      "text/plain": [
       "<AxesSubplot:xlabel='district'>"
      ]
     },
     "execution_count": 59,
     "metadata": {},
     "output_type": "execute_result"
    },
    {
     "data": {
      "image/png": "[encoded data removed]",
      "text/plain": [
       "<Figure size 432x288 with 1 Axes>"
      ]
     },
     "metadata": {
      "needs_background": "light"
     },
     "output_type": "display_data"
    }
   ],
   "source": [
    "frgn_dict_min.head().plot(\"district\", \"CAGR\", kind=\"bar\")"
   ]
  },
  {
   "cell_type": "code",
   "execution_count": null,
   "id": "8ae54212",
   "metadata": {},
   "outputs": [],
   "source": [
    "#4)What are the peak and low season months for Hyderabad based on data from 2016-2019 for Hyderabad district?"
   ]
  },
  {
   "cell_type": "code",
   "execution_count": 61,
   "id": "877659e3",
   "metadata": {},
   "outputs": [],
   "source": [
    "domestic_hyd=domestic_visitors[domestic_visitors[\"district\"]==\"Hyderabad\"]"
   ]
  },
  {
   "cell_type": "code",
   "execution_count": 64,
   "id": "59908ee6",
   "metadata": {},
   "outputs": [
    {
     "data": {
      "text/plain": [
       "month\n",
       "June        16897783\n",
       "December     9338637\n",
       "October      6552397\n",
       "January      6452101\n",
       "April        6126839\n",
       "Name: visitors, dtype: int64"
      ]
     },
     "execution_count": 64,
     "metadata": {},
     "output_type": "execute_result"
    }
   ],
   "source": [
    "#4a)Peak season months for Hyderabad from Domestic visitors:\n",
    "domestic_hyd.groupby(\"month\")[\"visitors\"].sum().sort_values(ascending=False).head()"
   ]
  },
  {
   "cell_type": "code",
   "execution_count": 65,
   "id": "b0e3697d",
   "metadata": {},
   "outputs": [
    {
     "data": {
      "text/plain": [
       "<AxesSubplot:xlabel='month'>"
      ]
     },
     "execution_count": 65,
     "metadata": {},
     "output_type": "execute_result"
    },
    {
     "data": {
      "image/png": "[encoded data removed]",
      "text/plain": [
       "<Figure size 432x288 with 1 Axes>"
      ]
     },
     "metadata": {
      "needs_background": "light"
     },
     "output_type": "display_data"
    }
   ],
   "source": [
    "domestic_hyd.groupby(\"month\")[\"visitors\"].sum().sort_values(ascending=False).head().plot(kind=\"bar\")"
   ]
  },
  {
   "cell_type": "code",
   "execution_count": 66,
   "id": "026ceb64",
   "metadata": {},
   "outputs": [
    {
     "data": {
      "text/plain": [
       "month\n",
       "November     5626156\n",
       "July         5552527\n",
       "September    5312283\n",
       "March        5227626\n",
       "February     5014430\n",
       "Name: visitors, dtype: int64"
      ]
     },
     "execution_count": 66,
     "metadata": {},
     "output_type": "execute_result"
    }
   ],
   "source": [
    "#4b)Low season months for Hyderabad from Domestic visitors:\n",
    "domestic_hyd.groupby(\"month\")[\"visitors\"].sum().sort_values(ascending=False).tail()"
   ]
  },
  {
   "cell_type": "code",
   "execution_count": 67,
   "id": "3e6f3739",
   "metadata": {},
   "outputs": [
    {
     "data": {
      "text/plain": [
       "<AxesSubplot:xlabel='month'>"
      ]
     },
     "execution_count": 67,
     "metadata": {},
     "output_type": "execute_result"
    },
    {
     "data": {
      "image/png": "[encoded data removed]",
      "text/plain": [
       "<Figure size 432x288 with 1 Axes>"
      ]
     },
     "metadata": {
      "needs_background": "light"
     },
     "output_type": "display_data"
    }
   ],
   "source": [
    "domestic_hyd.groupby(\"month\")[\"visitors\"].sum().sort_values(ascending=False).tail().plot(kind=\"bar\")"
   ]
  },
  {
   "cell_type": "code",
   "execution_count": null,
   "id": "5aa72388",
   "metadata": {},
   "outputs": [],
   "source": [
    "#5)Show the top & bottom 3 districts with high domestic to foreign tourist ratio:"
   ]
  },
  {
   "cell_type": "code",
   "execution_count": 73,
   "id": "66737484",
   "metadata": {},
   "outputs": [],
   "source": [
    "df = pd.DataFrame({\"foreign_visitors\":foreign_visitors.groupby(\"district\")[\"visitors\"].sum()})"
   ]
  },
  {
   "cell_type": "code",
   "execution_count": 74,
   "id": "f3735619",
   "metadata": {},
   "outputs": [],
   "source": [
    "df[\"domestic_visitors\"]=domestic_visitors.groupby(\"district\")[\"visitors\"].sum()"
   ]
  },
  {
   "cell_type": "code",
   "execution_count": 75,
   "id": "8db5d3e2",
   "metadata": {},
   "outputs": [
    {
     "data": {
      "text/plain": [
       "foreign_visitors     0\n",
       "domestic_visitors    1\n",
       "dtype: int64"
      ]
     },
     "execution_count": 75,
     "metadata": {},
     "output_type": "execute_result"
    }
   ],
   "source": [
    "df.isnull().sum()"
   ]
  },
  {
   "cell_type": "code",
   "execution_count": 76,
   "id": "861d95c8",
   "metadata": {},
   "outputs": [],
   "source": [
    "df[\"domestic_visitors\"] = df[\"domestic_visitors\"].replace(np.nan, 0)"
   ]
  },
  {
   "cell_type": "code",
   "execution_count": 77,
   "id": "3ea303bc",
   "metadata": {},
   "outputs": [
    {
     "data": {
      "text/html": [
       "<div>\n",
       "<style scoped>\n",
       "    .dataframe tbody tr th:only-of-type {\n",
       "        vertical-align: middle;\n",
       "    }\n",
       "\n",
       "    .dataframe tbody tr th {\n",
       "        vertical-align: top;\n",
       "    }\n",
       "\n",
       "    .dataframe thead th {\n",
       "        text-align: right;\n",
       "    }\n",
       "</style>\n",
       "<table border=\"1\" class=\"dataframe\">\n",
       "  <thead>\n",
       "    <tr style=\"text-align: right;\">\n",
       "      <th></th>\n",
       "      <th>foreign_visitors</th>\n",
       "      <th>domestic_visitors</th>\n",
       "    </tr>\n",
       "    <tr>\n",
       "      <th>district</th>\n",
       "      <th></th>\n",
       "      <th></th>\n",
       "    </tr>\n",
       "  </thead>\n",
       "  <tbody>\n",
       "    <tr>\n",
       "      <th>Adilabad</th>\n",
       "      <td>32</td>\n",
       "      <td>7321575.0</td>\n",
       "    </tr>\n",
       "    <tr>\n",
       "      <th>Bhadradri Kothagudem</th>\n",
       "      <td>0</td>\n",
       "      <td>21600962.0</td>\n",
       "    </tr>\n",
       "    <tr>\n",
       "      <th>Hyderabad</th>\n",
       "      <td>1044898</td>\n",
       "      <td>83900960.0</td>\n",
       "    </tr>\n",
       "    <tr>\n",
       "      <th>Jagtial</th>\n",
       "      <td>0</td>\n",
       "      <td>11303514.0</td>\n",
       "    </tr>\n",
       "    <tr>\n",
       "      <th>Jangaon</th>\n",
       "      <td>2</td>\n",
       "      <td>826280.0</td>\n",
       "    </tr>\n",
       "    <tr>\n",
       "      <th>Jayashankar Bhoopalpally</th>\n",
       "      <td>1252</td>\n",
       "      <td>19632865.0</td>\n",
       "    </tr>\n",
       "    <tr>\n",
       "      <th>Jogulamba Gadwal</th>\n",
       "      <td>945</td>\n",
       "      <td>6813340.0</td>\n",
       "    </tr>\n",
       "    <tr>\n",
       "      <th>Kamareddy</th>\n",
       "      <td>0</td>\n",
       "      <td>1773.0</td>\n",
       "    </tr>\n",
       "    <tr>\n",
       "      <th>Karimnagar</th>\n",
       "      <td>0</td>\n",
       "      <td>9462383.0</td>\n",
       "    </tr>\n",
       "    <tr>\n",
       "      <th>Khammam</th>\n",
       "      <td>0</td>\n",
       "      <td>9378315.0</td>\n",
       "    </tr>\n",
       "    <tr>\n",
       "      <th>Komaram Bheem Asifabad</th>\n",
       "      <td>0</td>\n",
       "      <td>92734.0</td>\n",
       "    </tr>\n",
       "    <tr>\n",
       "      <th>Mahabubabad</th>\n",
       "      <td>0</td>\n",
       "      <td>600697.0</td>\n",
       "    </tr>\n",
       "    <tr>\n",
       "      <th>Mahbubnagar</th>\n",
       "      <td>2282</td>\n",
       "      <td>17180118.0</td>\n",
       "    </tr>\n",
       "    <tr>\n",
       "      <th>Mancherial</th>\n",
       "      <td>10</td>\n",
       "      <td>867242.0</td>\n",
       "    </tr>\n",
       "    <tr>\n",
       "      <th>Medak</th>\n",
       "      <td>0</td>\n",
       "      <td>20542639.0</td>\n",
       "    </tr>\n",
       "    <tr>\n",
       "      <th>Medchal</th>\n",
       "      <td>0</td>\n",
       "      <td>0.0</td>\n",
       "    </tr>\n",
       "    <tr>\n",
       "      <th>Mulugu</th>\n",
       "      <td>575</td>\n",
       "      <td>1819800.0</td>\n",
       "    </tr>\n",
       "    <tr>\n",
       "      <th>Nagarkurnool</th>\n",
       "      <td>761</td>\n",
       "      <td>7424355.0</td>\n",
       "    </tr>\n",
       "    <tr>\n",
       "      <th>Nalgonda</th>\n",
       "      <td>0</td>\n",
       "      <td>6401933.0</td>\n",
       "    </tr>\n",
       "    <tr>\n",
       "      <th>Narayanpet</th>\n",
       "      <td>5</td>\n",
       "      <td>0.0</td>\n",
       "    </tr>\n",
       "    <tr>\n",
       "      <th>Nirmal</th>\n",
       "      <td>2</td>\n",
       "      <td>13315796.0</td>\n",
       "    </tr>\n",
       "    <tr>\n",
       "      <th>Nizamabad</th>\n",
       "      <td>5</td>\n",
       "      <td>116147.0</td>\n",
       "    </tr>\n",
       "    <tr>\n",
       "      <th>Peddapalli</th>\n",
       "      <td>0</td>\n",
       "      <td>56977.0</td>\n",
       "    </tr>\n",
       "    <tr>\n",
       "      <th>Rajanna Sircilla</th>\n",
       "      <td>0</td>\n",
       "      <td>41763276.0</td>\n",
       "    </tr>\n",
       "    <tr>\n",
       "      <th>Ranga Reddy</th>\n",
       "      <td>0</td>\n",
       "      <td>0.0</td>\n",
       "    </tr>\n",
       "    <tr>\n",
       "      <th>Sangareddy</th>\n",
       "      <td>0</td>\n",
       "      <td>10424510.0</td>\n",
       "    </tr>\n",
       "    <tr>\n",
       "      <th>Siddipet</th>\n",
       "      <td>0</td>\n",
       "      <td>5775285.0</td>\n",
       "    </tr>\n",
       "    <tr>\n",
       "      <th>Suryapet</th>\n",
       "      <td>0</td>\n",
       "      <td>0.0</td>\n",
       "    </tr>\n",
       "    <tr>\n",
       "      <th>Vikarabad</th>\n",
       "      <td>0</td>\n",
       "      <td>0.0</td>\n",
       "    </tr>\n",
       "    <tr>\n",
       "      <th>Wanaparthy</th>\n",
       "      <td>0</td>\n",
       "      <td>890078.0</td>\n",
       "    </tr>\n",
       "    <tr>\n",
       "      <th>Warangal (Rural)</th>\n",
       "      <td>306</td>\n",
       "      <td>819162.0</td>\n",
       "    </tr>\n",
       "    <tr>\n",
       "      <th>Warangal (Urban)</th>\n",
       "      <td>8821</td>\n",
       "      <td>30726603.0</td>\n",
       "    </tr>\n",
       "    <tr>\n",
       "      <th>Yadadri Bhongir</th>\n",
       "      <td>0</td>\n",
       "      <td>26893080.0</td>\n",
       "    </tr>\n",
       "  </tbody>\n",
       "</table>\n",
       "</div>"
      ],
      "text/plain": [
       "                          foreign_visitors  domestic_visitors\n",
       "district                                                     \n",
       "Adilabad                                32          7321575.0\n",
       "Bhadradri Kothagudem                     0         21600962.0\n",
       "Hyderabad                          1044898         83900960.0\n",
       "Jagtial                                  0         11303514.0\n",
       "Jangaon                                  2           826280.0\n",
       "Jayashankar Bhoopalpally              1252         19632865.0\n",
       "Jogulamba Gadwal                       945          6813340.0\n",
       "Kamareddy                                0             1773.0\n",
       "Karimnagar                               0          9462383.0\n",
       "Khammam                                  0          9378315.0\n",
       "Komaram Bheem Asifabad                   0            92734.0\n",
       "Mahabubabad                              0           600697.0\n",
       "Mahbubnagar                           2282         17180118.0\n",
       "Mancherial                              10           867242.0\n",
       "Medak                                    0         20542639.0\n",
       "Medchal                                  0                0.0\n",
       "Mulugu                                 575          1819800.0\n",
       "Nagarkurnool                           761          7424355.0\n",
       "Nalgonda                                 0          6401933.0\n",
       "Narayanpet                               5                0.0\n",
       "Nirmal                                   2         13315796.0\n",
       "Nizamabad                                5           116147.0\n",
       "Peddapalli                               0            56977.0\n",
       "Rajanna Sircilla                         0         41763276.0\n",
       "Ranga Reddy                              0                0.0\n",
       "Sangareddy                               0         10424510.0\n",
       "Siddipet                                 0          5775285.0\n",
       "Suryapet                                 0                0.0\n",
       "Vikarabad                                0                0.0\n",
       "Wanaparthy                               0           890078.0\n",
       "Warangal (Rural)                       306           819162.0\n",
       "Warangal (Urban)                      8821         30726603.0\n",
       "Yadadri Bhongir                          0         26893080.0"
      ]
     },
     "execution_count": 77,
     "metadata": {},
     "output_type": "execute_result"
    }
   ],
   "source": [
    "df"
   ]
  },
  {
   "cell_type": "code",
   "execution_count": 78,
   "id": "31d44853",
   "metadata": {},
   "outputs": [
    {
     "name": "stderr",
     "output_type": "stream",
     "text": [
      "<ipython-input-78-392f952b0f6c>:3: RuntimeWarning: divide by zero encountered in scalar divide\n",
      "  ratio = df.iloc[i,1]/df.iloc[i,0]\n",
      "<ipython-input-78-392f952b0f6c>:3: RuntimeWarning: invalid value encountered in scalar divide\n",
      "  ratio = df.iloc[i,1]/df.iloc[i,0]\n"
     ]
    }
   ],
   "source": [
    "#Calculaating ratio:\n",
    "ratios = []\n",
    "for i in range(33):\n",
    "    ratio = df.iloc[i,1]/df.iloc[i,0]\n",
    "    ratios.append(ratio)\n",
    "df[\"Ratio\"]=ratios"
   ]
  },
  {
   "cell_type": "code",
   "execution_count": 79,
   "id": "8b1bcff8",
   "metadata": {},
   "outputs": [
    {
     "data": {
      "text/html": [
       "<div>\n",
       "<style scoped>\n",
       "    .dataframe tbody tr th:only-of-type {\n",
       "        vertical-align: middle;\n",
       "    }\n",
       "\n",
       "    .dataframe tbody tr th {\n",
       "        vertical-align: top;\n",
       "    }\n",
       "\n",
       "    .dataframe thead th {\n",
       "        text-align: right;\n",
       "    }\n",
       "</style>\n",
       "<table border=\"1\" class=\"dataframe\">\n",
       "  <thead>\n",
       "    <tr style=\"text-align: right;\">\n",
       "      <th></th>\n",
       "      <th>foreign_visitors</th>\n",
       "      <th>domestic_visitors</th>\n",
       "      <th>Ratio</th>\n",
       "    </tr>\n",
       "    <tr>\n",
       "      <th>district</th>\n",
       "      <th></th>\n",
       "      <th></th>\n",
       "      <th></th>\n",
       "    </tr>\n",
       "  </thead>\n",
       "  <tbody>\n",
       "    <tr>\n",
       "      <th>Adilabad</th>\n",
       "      <td>32</td>\n",
       "      <td>7321575.0</td>\n",
       "      <td>2.287992e+05</td>\n",
       "    </tr>\n",
       "    <tr>\n",
       "      <th>Bhadradri Kothagudem</th>\n",
       "      <td>0</td>\n",
       "      <td>21600962.0</td>\n",
       "      <td>inf</td>\n",
       "    </tr>\n",
       "    <tr>\n",
       "      <th>Hyderabad</th>\n",
       "      <td>1044898</td>\n",
       "      <td>83900960.0</td>\n",
       "      <td>8.029584e+01</td>\n",
       "    </tr>\n",
       "    <tr>\n",
       "      <th>Jagtial</th>\n",
       "      <td>0</td>\n",
       "      <td>11303514.0</td>\n",
       "      <td>inf</td>\n",
       "    </tr>\n",
       "    <tr>\n",
       "      <th>Jangaon</th>\n",
       "      <td>2</td>\n",
       "      <td>826280.0</td>\n",
       "      <td>4.131400e+05</td>\n",
       "    </tr>\n",
       "    <tr>\n",
       "      <th>Jayashankar Bhoopalpally</th>\n",
       "      <td>1252</td>\n",
       "      <td>19632865.0</td>\n",
       "      <td>1.568120e+04</td>\n",
       "    </tr>\n",
       "    <tr>\n",
       "      <th>Jogulamba Gadwal</th>\n",
       "      <td>945</td>\n",
       "      <td>6813340.0</td>\n",
       "      <td>7.209884e+03</td>\n",
       "    </tr>\n",
       "    <tr>\n",
       "      <th>Kamareddy</th>\n",
       "      <td>0</td>\n",
       "      <td>1773.0</td>\n",
       "      <td>inf</td>\n",
       "    </tr>\n",
       "    <tr>\n",
       "      <th>Karimnagar</th>\n",
       "      <td>0</td>\n",
       "      <td>9462383.0</td>\n",
       "      <td>inf</td>\n",
       "    </tr>\n",
       "    <tr>\n",
       "      <th>Khammam</th>\n",
       "      <td>0</td>\n",
       "      <td>9378315.0</td>\n",
       "      <td>inf</td>\n",
       "    </tr>\n",
       "    <tr>\n",
       "      <th>Komaram Bheem Asifabad</th>\n",
       "      <td>0</td>\n",
       "      <td>92734.0</td>\n",
       "      <td>inf</td>\n",
       "    </tr>\n",
       "    <tr>\n",
       "      <th>Mahabubabad</th>\n",
       "      <td>0</td>\n",
       "      <td>600697.0</td>\n",
       "      <td>inf</td>\n",
       "    </tr>\n",
       "    <tr>\n",
       "      <th>Mahbubnagar</th>\n",
       "      <td>2282</td>\n",
       "      <td>17180118.0</td>\n",
       "      <td>7.528535e+03</td>\n",
       "    </tr>\n",
       "    <tr>\n",
       "      <th>Mancherial</th>\n",
       "      <td>10</td>\n",
       "      <td>867242.0</td>\n",
       "      <td>8.672420e+04</td>\n",
       "    </tr>\n",
       "    <tr>\n",
       "      <th>Medak</th>\n",
       "      <td>0</td>\n",
       "      <td>20542639.0</td>\n",
       "      <td>inf</td>\n",
       "    </tr>\n",
       "    <tr>\n",
       "      <th>Medchal</th>\n",
       "      <td>0</td>\n",
       "      <td>0.0</td>\n",
       "      <td>NaN</td>\n",
       "    </tr>\n",
       "    <tr>\n",
       "      <th>Mulugu</th>\n",
       "      <td>575</td>\n",
       "      <td>1819800.0</td>\n",
       "      <td>3.164870e+03</td>\n",
       "    </tr>\n",
       "    <tr>\n",
       "      <th>Nagarkurnool</th>\n",
       "      <td>761</td>\n",
       "      <td>7424355.0</td>\n",
       "      <td>9.756051e+03</td>\n",
       "    </tr>\n",
       "    <tr>\n",
       "      <th>Nalgonda</th>\n",
       "      <td>0</td>\n",
       "      <td>6401933.0</td>\n",
       "      <td>inf</td>\n",
       "    </tr>\n",
       "    <tr>\n",
       "      <th>Narayanpet</th>\n",
       "      <td>5</td>\n",
       "      <td>0.0</td>\n",
       "      <td>0.000000e+00</td>\n",
       "    </tr>\n",
       "    <tr>\n",
       "      <th>Nirmal</th>\n",
       "      <td>2</td>\n",
       "      <td>13315796.0</td>\n",
       "      <td>6.657898e+06</td>\n",
       "    </tr>\n",
       "    <tr>\n",
       "      <th>Nizamabad</th>\n",
       "      <td>5</td>\n",
       "      <td>116147.0</td>\n",
       "      <td>2.322940e+04</td>\n",
       "    </tr>\n",
       "    <tr>\n",
       "      <th>Peddapalli</th>\n",
       "      <td>0</td>\n",
       "      <td>56977.0</td>\n",
       "      <td>inf</td>\n",
       "    </tr>\n",
       "    <tr>\n",
       "      <th>Rajanna Sircilla</th>\n",
       "      <td>0</td>\n",
       "      <td>41763276.0</td>\n",
       "      <td>inf</td>\n",
       "    </tr>\n",
       "    <tr>\n",
       "      <th>Ranga Reddy</th>\n",
       "      <td>0</td>\n",
       "      <td>0.0</td>\n",
       "      <td>NaN</td>\n",
       "    </tr>\n",
       "    <tr>\n",
       "      <th>Sangareddy</th>\n",
       "      <td>0</td>\n",
       "      <td>10424510.0</td>\n",
       "      <td>inf</td>\n",
       "    </tr>\n",
       "    <tr>\n",
       "      <th>Siddipet</th>\n",
       "      <td>0</td>\n",
       "      <td>5775285.0</td>\n",
       "      <td>inf</td>\n",
       "    </tr>\n",
       "    <tr>\n",
       "      <th>Suryapet</th>\n",
       "      <td>0</td>\n",
       "      <td>0.0</td>\n",
       "      <td>NaN</td>\n",
       "    </tr>\n",
       "    <tr>\n",
       "      <th>Vikarabad</th>\n",
       "      <td>0</td>\n",
       "      <td>0.0</td>\n",
       "      <td>NaN</td>\n",
       "    </tr>\n",
       "    <tr>\n",
       "      <th>Wanaparthy</th>\n",
       "      <td>0</td>\n",
       "      <td>890078.0</td>\n",
       "      <td>inf</td>\n",
       "    </tr>\n",
       "    <tr>\n",
       "      <th>Warangal (Rural)</th>\n",
       "      <td>306</td>\n",
       "      <td>819162.0</td>\n",
       "      <td>2.677000e+03</td>\n",
       "    </tr>\n",
       "    <tr>\n",
       "      <th>Warangal (Urban)</th>\n",
       "      <td>8821</td>\n",
       "      <td>30726603.0</td>\n",
       "      <td>3.483347e+03</td>\n",
       "    </tr>\n",
       "    <tr>\n",
       "      <th>Yadadri Bhongir</th>\n",
       "      <td>0</td>\n",
       "      <td>26893080.0</td>\n",
       "      <td>inf</td>\n",
       "    </tr>\n",
       "  </tbody>\n",
       "</table>\n",
       "</div>"
      ],
      "text/plain": [
       "                          foreign_visitors  domestic_visitors         Ratio\n",
       "district                                                                   \n",
       "Adilabad                                32          7321575.0  2.287992e+05\n",
       "Bhadradri Kothagudem                     0         21600962.0           inf\n",
       "Hyderabad                          1044898         83900960.0  8.029584e+01\n",
       "Jagtial                                  0         11303514.0           inf\n",
       "Jangaon                                  2           826280.0  4.131400e+05\n",
       "Jayashankar Bhoopalpally              1252         19632865.0  1.568120e+04\n",
       "Jogulamba Gadwal                       945          6813340.0  7.209884e+03\n",
       "Kamareddy                                0             1773.0           inf\n",
       "Karimnagar                               0          9462383.0           inf\n",
       "Khammam                                  0          9378315.0           inf\n",
       "Komaram Bheem Asifabad                   0            92734.0           inf\n",
       "Mahabubabad                              0           600697.0           inf\n",
       "Mahbubnagar                           2282         17180118.0  7.528535e+03\n",
       "Mancherial                              10           867242.0  8.672420e+04\n",
       "Medak                                    0         20542639.0           inf\n",
       "Medchal                                  0                0.0           NaN\n",
       "Mulugu                                 575          1819800.0  3.164870e+03\n",
       "Nagarkurnool                           761          7424355.0  9.756051e+03\n",
       "Nalgonda                                 0          6401933.0           inf\n",
       "Narayanpet                               5                0.0  0.000000e+00\n",
       "Nirmal                                   2         13315796.0  6.657898e+06\n",
       "Nizamabad                                5           116147.0  2.322940e+04\n",
       "Peddapalli                               0            56977.0           inf\n",
       "Rajanna Sircilla                         0         41763276.0           inf\n",
       "Ranga Reddy                              0                0.0           NaN\n",
       "Sangareddy                               0         10424510.0           inf\n",
       "Siddipet                                 0          5775285.0           inf\n",
       "Suryapet                                 0                0.0           NaN\n",
       "Vikarabad                                0                0.0           NaN\n",
       "Wanaparthy                               0           890078.0           inf\n",
       "Warangal (Rural)                       306           819162.0  2.677000e+03\n",
       "Warangal (Urban)                      8821         30726603.0  3.483347e+03\n",
       "Yadadri Bhongir                          0         26893080.0           inf"
      ]
     },
     "execution_count": 79,
     "metadata": {},
     "output_type": "execute_result"
    }
   ],
   "source": [
    "df"
   ]
  },
  {
   "cell_type": "code",
   "execution_count": 80,
   "id": "19bb1687",
   "metadata": {},
   "outputs": [],
   "source": [
    "#Replacing the NA values\n",
    "df = df.replace([np.nan, np.inf], 0)"
   ]
  },
  {
   "cell_type": "code",
   "execution_count": 81,
   "id": "988de8cd",
   "metadata": {},
   "outputs": [],
   "source": [
    "#filtering districts with foreign vistors>100 to get better ratio:\n",
    "df_ratio = df.sort_values(by=\"Ratio\", ascending=False).where(df[\"foreign_visitors\"]>100)"
   ]
  },
  {
   "cell_type": "code",
   "execution_count": 82,
   "id": "9d932439",
   "metadata": {},
   "outputs": [
    {
     "data": {
      "text/html": [
       "<div>\n",
       "<style scoped>\n",
       "    .dataframe tbody tr th:only-of-type {\n",
       "        vertical-align: middle;\n",
       "    }\n",
       "\n",
       "    .dataframe tbody tr th {\n",
       "        vertical-align: top;\n",
       "    }\n",
       "\n",
       "    .dataframe thead th {\n",
       "        text-align: right;\n",
       "    }\n",
       "</style>\n",
       "<table border=\"1\" class=\"dataframe\">\n",
       "  <thead>\n",
       "    <tr style=\"text-align: right;\">\n",
       "      <th></th>\n",
       "      <th>foreign_visitors</th>\n",
       "      <th>domestic_visitors</th>\n",
       "      <th>Ratio</th>\n",
       "    </tr>\n",
       "    <tr>\n",
       "      <th>district</th>\n",
       "      <th></th>\n",
       "      <th></th>\n",
       "      <th></th>\n",
       "    </tr>\n",
       "  </thead>\n",
       "  <tbody>\n",
       "    <tr>\n",
       "      <th>Nirmal</th>\n",
       "      <td>NaN</td>\n",
       "      <td>NaN</td>\n",
       "      <td>NaN</td>\n",
       "    </tr>\n",
       "    <tr>\n",
       "      <th>Jangaon</th>\n",
       "      <td>NaN</td>\n",
       "      <td>NaN</td>\n",
       "      <td>NaN</td>\n",
       "    </tr>\n",
       "    <tr>\n",
       "      <th>Adilabad</th>\n",
       "      <td>NaN</td>\n",
       "      <td>NaN</td>\n",
       "      <td>NaN</td>\n",
       "    </tr>\n",
       "    <tr>\n",
       "      <th>Mancherial</th>\n",
       "      <td>NaN</td>\n",
       "      <td>NaN</td>\n",
       "      <td>NaN</td>\n",
       "    </tr>\n",
       "    <tr>\n",
       "      <th>Nizamabad</th>\n",
       "      <td>NaN</td>\n",
       "      <td>NaN</td>\n",
       "      <td>NaN</td>\n",
       "    </tr>\n",
       "    <tr>\n",
       "      <th>Jayashankar Bhoopalpally</th>\n",
       "      <td>1252.0</td>\n",
       "      <td>19632865.0</td>\n",
       "      <td>15681.202077</td>\n",
       "    </tr>\n",
       "    <tr>\n",
       "      <th>Nagarkurnool</th>\n",
       "      <td>761.0</td>\n",
       "      <td>7424355.0</td>\n",
       "      <td>9756.051248</td>\n",
       "    </tr>\n",
       "    <tr>\n",
       "      <th>Mahbubnagar</th>\n",
       "      <td>2282.0</td>\n",
       "      <td>17180118.0</td>\n",
       "      <td>7528.535495</td>\n",
       "    </tr>\n",
       "    <tr>\n",
       "      <th>Jogulamba Gadwal</th>\n",
       "      <td>945.0</td>\n",
       "      <td>6813340.0</td>\n",
       "      <td>7209.883598</td>\n",
       "    </tr>\n",
       "    <tr>\n",
       "      <th>Warangal (Urban)</th>\n",
       "      <td>8821.0</td>\n",
       "      <td>30726603.0</td>\n",
       "      <td>3483.346899</td>\n",
       "    </tr>\n",
       "    <tr>\n",
       "      <th>Mulugu</th>\n",
       "      <td>575.0</td>\n",
       "      <td>1819800.0</td>\n",
       "      <td>3164.869565</td>\n",
       "    </tr>\n",
       "    <tr>\n",
       "      <th>Warangal (Rural)</th>\n",
       "      <td>306.0</td>\n",
       "      <td>819162.0</td>\n",
       "      <td>2677.000000</td>\n",
       "    </tr>\n",
       "    <tr>\n",
       "      <th>Hyderabad</th>\n",
       "      <td>1044898.0</td>\n",
       "      <td>83900960.0</td>\n",
       "      <td>80.295837</td>\n",
       "    </tr>\n",
       "    <tr>\n",
       "      <th>Mahabubabad</th>\n",
       "      <td>NaN</td>\n",
       "      <td>NaN</td>\n",
       "      <td>NaN</td>\n",
       "    </tr>\n",
       "    <tr>\n",
       "      <th>Komaram Bheem Asifabad</th>\n",
       "      <td>NaN</td>\n",
       "      <td>NaN</td>\n",
       "      <td>NaN</td>\n",
       "    </tr>\n",
       "    <tr>\n",
       "      <th>Wanaparthy</th>\n",
       "      <td>NaN</td>\n",
       "      <td>NaN</td>\n",
       "      <td>NaN</td>\n",
       "    </tr>\n",
       "    <tr>\n",
       "      <th>Vikarabad</th>\n",
       "      <td>NaN</td>\n",
       "      <td>NaN</td>\n",
       "      <td>NaN</td>\n",
       "    </tr>\n",
       "    <tr>\n",
       "      <th>Suryapet</th>\n",
       "      <td>NaN</td>\n",
       "      <td>NaN</td>\n",
       "      <td>NaN</td>\n",
       "    </tr>\n",
       "    <tr>\n",
       "      <th>Siddipet</th>\n",
       "      <td>NaN</td>\n",
       "      <td>NaN</td>\n",
       "      <td>NaN</td>\n",
       "    </tr>\n",
       "    <tr>\n",
       "      <th>Sangareddy</th>\n",
       "      <td>NaN</td>\n",
       "      <td>NaN</td>\n",
       "      <td>NaN</td>\n",
       "    </tr>\n",
       "    <tr>\n",
       "      <th>Ranga Reddy</th>\n",
       "      <td>NaN</td>\n",
       "      <td>NaN</td>\n",
       "      <td>NaN</td>\n",
       "    </tr>\n",
       "    <tr>\n",
       "      <th>Rajanna Sircilla</th>\n",
       "      <td>NaN</td>\n",
       "      <td>NaN</td>\n",
       "      <td>NaN</td>\n",
       "    </tr>\n",
       "    <tr>\n",
       "      <th>Peddapalli</th>\n",
       "      <td>NaN</td>\n",
       "      <td>NaN</td>\n",
       "      <td>NaN</td>\n",
       "    </tr>\n",
       "    <tr>\n",
       "      <th>Jagtial</th>\n",
       "      <td>NaN</td>\n",
       "      <td>NaN</td>\n",
       "      <td>NaN</td>\n",
       "    </tr>\n",
       "    <tr>\n",
       "      <th>Kamareddy</th>\n",
       "      <td>NaN</td>\n",
       "      <td>NaN</td>\n",
       "      <td>NaN</td>\n",
       "    </tr>\n",
       "    <tr>\n",
       "      <th>Narayanpet</th>\n",
       "      <td>NaN</td>\n",
       "      <td>NaN</td>\n",
       "      <td>NaN</td>\n",
       "    </tr>\n",
       "    <tr>\n",
       "      <th>Nalgonda</th>\n",
       "      <td>NaN</td>\n",
       "      <td>NaN</td>\n",
       "      <td>NaN</td>\n",
       "    </tr>\n",
       "    <tr>\n",
       "      <th>Karimnagar</th>\n",
       "      <td>NaN</td>\n",
       "      <td>NaN</td>\n",
       "      <td>NaN</td>\n",
       "    </tr>\n",
       "    <tr>\n",
       "      <th>Bhadradri Kothagudem</th>\n",
       "      <td>NaN</td>\n",
       "      <td>NaN</td>\n",
       "      <td>NaN</td>\n",
       "    </tr>\n",
       "    <tr>\n",
       "      <th>Medchal</th>\n",
       "      <td>NaN</td>\n",
       "      <td>NaN</td>\n",
       "      <td>NaN</td>\n",
       "    </tr>\n",
       "    <tr>\n",
       "      <th>Medak</th>\n",
       "      <td>NaN</td>\n",
       "      <td>NaN</td>\n",
       "      <td>NaN</td>\n",
       "    </tr>\n",
       "    <tr>\n",
       "      <th>Khammam</th>\n",
       "      <td>NaN</td>\n",
       "      <td>NaN</td>\n",
       "      <td>NaN</td>\n",
       "    </tr>\n",
       "    <tr>\n",
       "      <th>Yadadri Bhongir</th>\n",
       "      <td>NaN</td>\n",
       "      <td>NaN</td>\n",
       "      <td>NaN</td>\n",
       "    </tr>\n",
       "  </tbody>\n",
       "</table>\n",
       "</div>"
      ],
      "text/plain": [
       "                          foreign_visitors  domestic_visitors         Ratio\n",
       "district                                                                   \n",
       "Nirmal                                 NaN                NaN           NaN\n",
       "Jangaon                                NaN                NaN           NaN\n",
       "Adilabad                               NaN                NaN           NaN\n",
       "Mancherial                             NaN                NaN           NaN\n",
       "Nizamabad                              NaN                NaN           NaN\n",
       "Jayashankar Bhoopalpally            1252.0         19632865.0  15681.202077\n",
       "Nagarkurnool                         761.0          7424355.0   9756.051248\n",
       "Mahbubnagar                         2282.0         17180118.0   7528.535495\n",
       "Jogulamba Gadwal                     945.0          6813340.0   7209.883598\n",
       "Warangal (Urban)                    8821.0         30726603.0   3483.346899\n",
       "Mulugu                               575.0          1819800.0   3164.869565\n",
       "Warangal (Rural)                     306.0           819162.0   2677.000000\n",
       "Hyderabad                        1044898.0         83900960.0     80.295837\n",
       "Mahabubabad                            NaN                NaN           NaN\n",
       "Komaram Bheem Asifabad                 NaN                NaN           NaN\n",
       "Wanaparthy                             NaN                NaN           NaN\n",
       "Vikarabad                              NaN                NaN           NaN\n",
       "Suryapet                               NaN                NaN           NaN\n",
       "Siddipet                               NaN                NaN           NaN\n",
       "Sangareddy                             NaN                NaN           NaN\n",
       "Ranga Reddy                            NaN                NaN           NaN\n",
       "Rajanna Sircilla                       NaN                NaN           NaN\n",
       "Peddapalli                             NaN                NaN           NaN\n",
       "Jagtial                                NaN                NaN           NaN\n",
       "Kamareddy                              NaN                NaN           NaN\n",
       "Narayanpet                             NaN                NaN           NaN\n",
       "Nalgonda                               NaN                NaN           NaN\n",
       "Karimnagar                             NaN                NaN           NaN\n",
       "Bhadradri Kothagudem                   NaN                NaN           NaN\n",
       "Medchal                                NaN                NaN           NaN\n",
       "Medak                                  NaN                NaN           NaN\n",
       "Khammam                                NaN                NaN           NaN\n",
       "Yadadri Bhongir                        NaN                NaN           NaN"
      ]
     },
     "execution_count": 82,
     "metadata": {},
     "output_type": "execute_result"
    }
   ],
   "source": [
    "df_ratio"
   ]
  },
  {
   "cell_type": "code",
   "execution_count": 83,
   "id": "0612c787",
   "metadata": {},
   "outputs": [],
   "source": [
    "#Dropping NA values\n",
    "df_ratio = df_ratio.dropna()"
   ]
  },
  {
   "cell_type": "code",
   "execution_count": 84,
   "id": "31433d56",
   "metadata": {},
   "outputs": [
    {
     "name": "stderr",
     "output_type": "stream",
     "text": [
      "<ipython-input-84-0ded6af9972e>:1: SettingWithCopyWarning: \n",
      "A value is trying to be set on a copy of a slice from a DataFrame\n",
      "\n",
      "See the caveats in the documentation: https://pandas.pydata.org/pandas-docs/stable/user_guide/indexing.html#returning-a-view-versus-a-copy\n",
      "  df_ratio.sort_values(by=\"Ratio\", ascending=True, inplace=True)\n"
     ]
    }
   ],
   "source": [
    "df_ratio.sort_values(by=\"Ratio\", ascending=True, inplace=True)"
   ]
  },
  {
   "cell_type": "code",
   "execution_count": 85,
   "id": "105bb342",
   "metadata": {},
   "outputs": [],
   "source": [
    "df_ratio = df_ratio.reset_index()"
   ]
  },
  {
   "cell_type": "code",
   "execution_count": 91,
   "id": "63c9f1aa",
   "metadata": {},
   "outputs": [
    {
     "data": {
      "text/html": [
       "<div>\n",
       "<style scoped>\n",
       "    .dataframe tbody tr th:only-of-type {\n",
       "        vertical-align: middle;\n",
       "    }\n",
       "\n",
       "    .dataframe tbody tr th {\n",
       "        vertical-align: top;\n",
       "    }\n",
       "\n",
       "    .dataframe thead th {\n",
       "        text-align: right;\n",
       "    }\n",
       "</style>\n",
       "<table border=\"1\" class=\"dataframe\">\n",
       "  <thead>\n",
       "    <tr style=\"text-align: right;\">\n",
       "      <th></th>\n",
       "      <th>district</th>\n",
       "      <th>foreign_visitors</th>\n",
       "      <th>domestic_visitors</th>\n",
       "      <th>Ratio</th>\n",
       "    </tr>\n",
       "  </thead>\n",
       "  <tbody>\n",
       "    <tr>\n",
       "      <th>0</th>\n",
       "      <td>Hyderabad</td>\n",
       "      <td>1044898.0</td>\n",
       "      <td>83900960.0</td>\n",
       "      <td>80.295837</td>\n",
       "    </tr>\n",
       "    <tr>\n",
       "      <th>1</th>\n",
       "      <td>Warangal (Rural)</td>\n",
       "      <td>306.0</td>\n",
       "      <td>819162.0</td>\n",
       "      <td>2677.000000</td>\n",
       "    </tr>\n",
       "    <tr>\n",
       "      <th>2</th>\n",
       "      <td>Mulugu</td>\n",
       "      <td>575.0</td>\n",
       "      <td>1819800.0</td>\n",
       "      <td>3164.869565</td>\n",
       "    </tr>\n",
       "  </tbody>\n",
       "</table>\n",
       "</div>"
      ],
      "text/plain": [
       "           district  foreign_visitors  domestic_visitors        Ratio\n",
       "0         Hyderabad         1044898.0         83900960.0    80.295837\n",
       "1  Warangal (Rural)             306.0           819162.0  2677.000000\n",
       "2            Mulugu             575.0          1819800.0  3164.869565"
      ]
     },
     "execution_count": 91,
     "metadata": {},
     "output_type": "execute_result"
    }
   ],
   "source": [
    "# 5a) Top 3 districts with high domestic to foreign tourist ratio:\n",
    "df_ratio.head(3)"
   ]
  },
  {
   "cell_type": "code",
   "execution_count": 92,
   "id": "32e4473a",
   "metadata": {},
   "outputs": [
    {
     "data": {
      "text/plain": [
       "<AxesSubplot:xlabel='district'>"
      ]
     },
     "execution_count": 92,
     "metadata": {},
     "output_type": "execute_result"
    },
    {
     "data": {
      "image/png": "[encoded data removed]",
      "text/plain": [
       "<Figure size 432x288 with 1 Axes>"
      ]
     },
     "metadata": {
      "needs_background": "light"
     },
     "output_type": "display_data"
    }
   ],
   "source": [
    "df_ratio.head(3).plot(\"district\", \"Ratio\", kind=\"bar\")"
   ]
  },
  {
   "cell_type": "code",
   "execution_count": 93,
   "id": "1260b8e4",
   "metadata": {},
   "outputs": [
    {
     "name": "stderr",
     "output_type": "stream",
     "text": [
      "<ipython-input-93-66d6b82f0d54>:1: SettingWithCopyWarning: \n",
      "A value is trying to be set on a copy of a slice from a DataFrame\n",
      "\n",
      "See the caveats in the documentation: https://pandas.pydata.org/pandas-docs/stable/user_guide/indexing.html#returning-a-view-versus-a-copy\n",
      "  df_ratio.tail(3).sort_values(by=\"Ratio\", ascending=False, inplace=True)\n"
     ]
    }
   ],
   "source": [
    "df_ratio.tail(3).sort_values(by=\"Ratio\", ascending=False, inplace=True)"
   ]
  },
  {
   "cell_type": "code",
   "execution_count": 94,
   "id": "bb7d3f42",
   "metadata": {},
   "outputs": [
    {
     "data": {
      "text/html": [
       "<div>\n",
       "<style scoped>\n",
       "    .dataframe tbody tr th:only-of-type {\n",
       "        vertical-align: middle;\n",
       "    }\n",
       "\n",
       "    .dataframe tbody tr th {\n",
       "        vertical-align: top;\n",
       "    }\n",
       "\n",
       "    .dataframe thead th {\n",
       "        text-align: right;\n",
       "    }\n",
       "</style>\n",
       "<table border=\"1\" class=\"dataframe\">\n",
       "  <thead>\n",
       "    <tr style=\"text-align: right;\">\n",
       "      <th></th>\n",
       "      <th>district</th>\n",
       "      <th>foreign_visitors</th>\n",
       "      <th>domestic_visitors</th>\n",
       "      <th>Ratio</th>\n",
       "    </tr>\n",
       "  </thead>\n",
       "  <tbody>\n",
       "    <tr>\n",
       "      <th>5</th>\n",
       "      <td>Mahbubnagar</td>\n",
       "      <td>2282.0</td>\n",
       "      <td>17180118.0</td>\n",
       "      <td>7528.535495</td>\n",
       "    </tr>\n",
       "    <tr>\n",
       "      <th>6</th>\n",
       "      <td>Nagarkurnool</td>\n",
       "      <td>761.0</td>\n",
       "      <td>7424355.0</td>\n",
       "      <td>9756.051248</td>\n",
       "    </tr>\n",
       "    <tr>\n",
       "      <th>7</th>\n",
       "      <td>Jayashankar Bhoopalpally</td>\n",
       "      <td>1252.0</td>\n",
       "      <td>19632865.0</td>\n",
       "      <td>15681.202077</td>\n",
       "    </tr>\n",
       "  </tbody>\n",
       "</table>\n",
       "</div>"
      ],
      "text/plain": [
       "                   district  foreign_visitors  domestic_visitors         Ratio\n",
       "5               Mahbubnagar            2282.0         17180118.0   7528.535495\n",
       "6             Nagarkurnool              761.0          7424355.0   9756.051248\n",
       "7  Jayashankar Bhoopalpally            1252.0         19632865.0  15681.202077"
      ]
     },
     "execution_count": 94,
     "metadata": {},
     "output_type": "execute_result"
    }
   ],
   "source": [
    "#5b) Bottom 3 districts with high domestic to foreign tourist ratio:\n",
    "df_ratio.tail(3)"
   ]
  },
  {
   "cell_type": "code",
   "execution_count": 95,
   "id": "54f5ae7b",
   "metadata": {},
   "outputs": [
    {
     "data": {
      "text/plain": [
       "<AxesSubplot:xlabel='district'>"
      ]
     },
     "execution_count": 95,
     "metadata": {},
     "output_type": "execute_result"
    },
    {
     "data": {
      "image/png": "[encoded data removed]",
      "text/plain": [
       "<Figure size 432x288 with 1 Axes>"
      ]
     },
     "metadata": {
      "needs_background": "light"
     },
     "output_type": "display_data"
    }
   ],
   "source": [
    "df_ratio.tail(3).plot(\"district\", \"Ratio\", kind=\"bar\")"
   ]
  },
  {
   "cell_type": "code",
   "execution_count": null,
   "id": "55c072a1",
   "metadata": {},
   "outputs": [],
   "source": []
  },
  {
   "cell_type": "code",
   "execution_count": null,
   "id": "d6e6013f",
   "metadata": {},
   "outputs": [],
   "source": []
  }
 ],
 "metadata": {
  "kernelspec": {
   "display_name": "Python 3",
   "language": "python",
   "name": "python3"
  },
  "language_info": {
   "codemirror_mode": {
    "name": "ipython",
    "version": 3
   },
   "file_extension": ".py",
   "mimetype": "text/x-python",
   "name": "python",
   "nbconvert_exporter": "python",
   "pygments_lexer": "ipython3",
   "version": "3.8.8"
  }
 },
 "nbformat": 4,
 "nbformat_minor": 5
}
